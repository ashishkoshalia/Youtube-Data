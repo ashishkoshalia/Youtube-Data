{
 "cells": [
  {
   "cell_type": "code",
   "execution_count": 1,
   "metadata": {},
   "outputs": [],
   "source": [
    "import pandas as pd\n",
    "import numpy as np\n",
    "import seaborn as sns\n",
    "import matplotlib.pyplot as plt\n",
    "%matplotlib inline"
   ]
  },
  {
   "cell_type": "code",
   "execution_count": 2,
   "metadata": {},
   "outputs": [],
   "source": [
    "youtube=pd.read_csv('C://Users//Acer//Downloads//Extra//Final Exams//Eda//youtube.csv') #Importing Data"
   ]
  },
  {
   "cell_type": "code",
   "execution_count": 3,
   "metadata": {},
   "outputs": [
    {
     "data": {
      "text/plain": [
       "(5000, 6)"
      ]
     },
     "execution_count": 3,
     "metadata": {},
     "output_type": "execute_result"
    }
   ],
   "source": [
    "youtube.shape"
   ]
  },
  {
   "cell_type": "code",
   "execution_count": 4,
   "metadata": {},
   "outputs": [
    {
     "data": {
      "text/html": [
       "<div>\n",
       "<style scoped>\n",
       "    .dataframe tbody tr th:only-of-type {\n",
       "        vertical-align: middle;\n",
       "    }\n",
       "\n",
       "    .dataframe tbody tr th {\n",
       "        vertical-align: top;\n",
       "    }\n",
       "\n",
       "    .dataframe thead th {\n",
       "        text-align: right;\n",
       "    }\n",
       "</style>\n",
       "<table border=\"1\" class=\"dataframe\">\n",
       "  <thead>\n",
       "    <tr style=\"text-align: right;\">\n",
       "      <th></th>\n",
       "      <th>Rank</th>\n",
       "      <th>Grade</th>\n",
       "      <th>Channel name</th>\n",
       "      <th>Video Uploads</th>\n",
       "      <th>Subscribers</th>\n",
       "      <th>Video views</th>\n",
       "    </tr>\n",
       "  </thead>\n",
       "  <tbody>\n",
       "    <tr>\n",
       "      <th>0</th>\n",
       "      <td>1st</td>\n",
       "      <td>A++</td>\n",
       "      <td>Zee TV</td>\n",
       "      <td>82757</td>\n",
       "      <td>18752951</td>\n",
       "      <td>20869786591</td>\n",
       "    </tr>\n",
       "    <tr>\n",
       "      <th>1</th>\n",
       "      <td>2nd</td>\n",
       "      <td>A++</td>\n",
       "      <td>T-Series</td>\n",
       "      <td>12661</td>\n",
       "      <td>61196302</td>\n",
       "      <td>47548839843</td>\n",
       "    </tr>\n",
       "    <tr>\n",
       "      <th>2</th>\n",
       "      <td>3rd</td>\n",
       "      <td>A++</td>\n",
       "      <td>Cocomelon - Nursery Rhymes</td>\n",
       "      <td>373</td>\n",
       "      <td>19238251</td>\n",
       "      <td>9793305082</td>\n",
       "    </tr>\n",
       "    <tr>\n",
       "      <th>3</th>\n",
       "      <td>4th</td>\n",
       "      <td>A++</td>\n",
       "      <td>SET India</td>\n",
       "      <td>27323</td>\n",
       "      <td>31180559</td>\n",
       "      <td>22675948293</td>\n",
       "    </tr>\n",
       "    <tr>\n",
       "      <th>4</th>\n",
       "      <td>5th</td>\n",
       "      <td>A++</td>\n",
       "      <td>WWE</td>\n",
       "      <td>36756</td>\n",
       "      <td>32852346</td>\n",
       "      <td>26273668433</td>\n",
       "    </tr>\n",
       "    <tr>\n",
       "      <th>5</th>\n",
       "      <td>6th</td>\n",
       "      <td>A++</td>\n",
       "      <td>Movieclips</td>\n",
       "      <td>30243</td>\n",
       "      <td>17149705</td>\n",
       "      <td>16618094724</td>\n",
       "    </tr>\n",
       "    <tr>\n",
       "      <th>6</th>\n",
       "      <td>7th</td>\n",
       "      <td>A++</td>\n",
       "      <td>netd müzik</td>\n",
       "      <td>8500</td>\n",
       "      <td>11373567</td>\n",
       "      <td>23898730764</td>\n",
       "    </tr>\n",
       "    <tr>\n",
       "      <th>7</th>\n",
       "      <td>8th</td>\n",
       "      <td>A++</td>\n",
       "      <td>ABS-CBN Entertainment</td>\n",
       "      <td>100147</td>\n",
       "      <td>12149206</td>\n",
       "      <td>17202609850</td>\n",
       "    </tr>\n",
       "    <tr>\n",
       "      <th>8</th>\n",
       "      <td>9th</td>\n",
       "      <td>A++</td>\n",
       "      <td>Ryan ToysReview</td>\n",
       "      <td>1140</td>\n",
       "      <td>16082927</td>\n",
       "      <td>24518098041</td>\n",
       "    </tr>\n",
       "    <tr>\n",
       "      <th>9</th>\n",
       "      <td>10th</td>\n",
       "      <td>A++</td>\n",
       "      <td>Zee Marathi</td>\n",
       "      <td>74607</td>\n",
       "      <td>2841811</td>\n",
       "      <td>2591830307</td>\n",
       "    </tr>\n",
       "  </tbody>\n",
       "</table>\n",
       "</div>"
      ],
      "text/plain": [
       "   Rank Grade                Channel name Video Uploads Subscribers  \\\n",
       "0   1st  A++                       Zee TV         82757    18752951   \n",
       "1   2nd  A++                     T-Series         12661    61196302   \n",
       "2   3rd  A++   Cocomelon - Nursery Rhymes           373    19238251   \n",
       "3   4th  A++                    SET India         27323    31180559   \n",
       "4   5th  A++                          WWE         36756    32852346   \n",
       "5   6th  A++                   Movieclips         30243    17149705   \n",
       "6   7th  A++                   netd müzik          8500    11373567   \n",
       "7   8th  A++        ABS-CBN Entertainment        100147    12149206   \n",
       "8   9th  A++              Ryan ToysReview          1140    16082927   \n",
       "9  10th  A++                  Zee Marathi         74607     2841811   \n",
       "\n",
       "   Video views  \n",
       "0  20869786591  \n",
       "1  47548839843  \n",
       "2   9793305082  \n",
       "3  22675948293  \n",
       "4  26273668433  \n",
       "5  16618094724  \n",
       "6  23898730764  \n",
       "7  17202609850  \n",
       "8  24518098041  \n",
       "9   2591830307  "
      ]
     },
     "execution_count": 4,
     "metadata": {},
     "output_type": "execute_result"
    }
   ],
   "source": [
    "youtube.head(10)"
   ]
  },
  {
   "cell_type": "code",
   "execution_count": 5,
   "metadata": {},
   "outputs": [
    {
     "name": "stdout",
     "output_type": "stream",
     "text": [
      "<class 'pandas.core.frame.DataFrame'>\n",
      "RangeIndex: 5000 entries, 0 to 4999\n",
      "Data columns (total 6 columns):\n",
      "Rank             5000 non-null object\n",
      "Grade            5000 non-null object\n",
      "Channel name     5000 non-null object\n",
      "Video Uploads    5000 non-null object\n",
      "Subscribers      5000 non-null object\n",
      "Video views      5000 non-null int64\n",
      "dtypes: int64(1), object(5)\n",
      "memory usage: 234.5+ KB\n"
     ]
    }
   ],
   "source": [
    "youtube.info()"
   ]
  },
  {
   "cell_type": "code",
   "execution_count": 6,
   "metadata": {},
   "outputs": [
    {
     "data": {
      "text/plain": [
       "--         387\n",
       "92158        2\n",
       "666561       2\n",
       "1738897      1\n",
       "526890       1\n",
       "Name: Subscribers, dtype: int64"
      ]
     },
     "execution_count": 6,
     "metadata": {},
     "output_type": "execute_result"
    }
   ],
   "source": [
    "youtube.Subscribers.value_counts().head() #Here it is clearly visible that there are null values but not by the name null it is denoted as '-- '"
   ]
  },
  {
   "cell_type": "code",
   "execution_count": 7,
   "metadata": {},
   "outputs": [],
   "source": [
    "# So replace those null values by nan\n",
    "youtube.Subscribers=youtube.Subscribers.replace(to_replace='-- ', value=np.nan)"
   ]
  },
  {
   "cell_type": "code",
   "execution_count": 8,
   "metadata": {},
   "outputs": [],
   "source": [
    "# Subscribers column is in string so lets convert it in float\n",
    "youtube.Subscribers=np.float_(youtube.Subscribers)"
   ]
  },
  {
   "cell_type": "code",
   "execution_count": 9,
   "metadata": {},
   "outputs": [
    {
     "name": "stdout",
     "output_type": "stream",
     "text": [
      "<class 'pandas.core.frame.DataFrame'>\n",
      "RangeIndex: 5000 entries, 0 to 4999\n",
      "Data columns (total 6 columns):\n",
      "Rank             5000 non-null object\n",
      "Grade            5000 non-null object\n",
      "Channel name     5000 non-null object\n",
      "Video Uploads    5000 non-null object\n",
      "Subscribers      4613 non-null float64\n",
      "Video views      5000 non-null int64\n",
      "dtypes: float64(1), int64(1), object(4)\n",
      "memory usage: 234.5+ KB\n"
     ]
    }
   ],
   "source": [
    "youtube.info() #see it is changed to foat (Subscribers      4613 non-null float64)"
   ]
  },
  {
   "cell_type": "code",
   "execution_count": 10,
   "metadata": {},
   "outputs": [],
   "source": [
    "#There are null values but not by the name null it is denoted as '--'\n",
    "youtube['Video Uploads']=youtube['Video Uploads'].replace(to_replace='--', value=np.nan)"
   ]
  },
  {
   "cell_type": "code",
   "execution_count": 11,
   "metadata": {},
   "outputs": [],
   "source": [
    "#Video Uploads column is in string so let's convert it in float\n",
    "youtube['Video Uploads']=np.float_(youtube['Video Uploads'])"
   ]
  },
  {
   "cell_type": "code",
   "execution_count": 12,
   "metadata": {},
   "outputs": [
    {
     "name": "stdout",
     "output_type": "stream",
     "text": [
      "<class 'pandas.core.frame.DataFrame'>\n",
      "RangeIndex: 5000 entries, 0 to 4999\n",
      "Data columns (total 6 columns):\n",
      "Rank             5000 non-null object\n",
      "Grade            5000 non-null object\n",
      "Channel name     5000 non-null object\n",
      "Video Uploads    4994 non-null float64\n",
      "Subscribers      4613 non-null float64\n",
      "Video views      5000 non-null int64\n",
      "dtypes: float64(2), int64(1), object(3)\n",
      "memory usage: 234.5+ KB\n"
     ]
    }
   ],
   "source": [
    "youtube.info()"
   ]
  },
  {
   "cell_type": "markdown",
   "metadata": {},
   "source": [
    "# From here their are some basic questions on EDA"
   ]
  },
  {
   "cell_type": "markdown",
   "metadata": {},
   "source": [
    "# Q-1 What are the top 10 youtube channels as ordered by ‘number of subcribers’?"
   ]
  },
  {
   "cell_type": "code",
   "execution_count": 13,
   "metadata": {},
   "outputs": [
    {
     "data": {
      "text/plain": [
       "1470           PewDiePie\n",
       "1               T-Series\n",
       "11       Canal KondZilla\n",
       "174         Dude Perfect\n",
       "3222      HolaSoyGerman.\n",
       "435     JustinBieberVEVO\n",
       "63            Ed Sheeran\n",
       "10       5-Minute Crafts\n",
       "4                    WWE\n",
       "1942    whinderssonnunes\n",
       "Name: Channel name, dtype: object"
      ]
     },
     "execution_count": 13,
     "metadata": {},
     "output_type": "execute_result"
    }
   ],
   "source": [
    "youtube.sort_values(by='Subscribers',ascending=False)['Channel name'].head(10)"
   ]
  },
  {
   "cell_type": "markdown",
   "metadata": {},
   "source": [
    "# Q-2 Generate a table which only contains data for channels which have less than 5000 video uploads. Sort this table by Rank."
   ]
  },
  {
   "cell_type": "code",
   "execution_count": 14,
   "metadata": {},
   "outputs": [
    {
     "data": {
      "text/html": [
       "<div>\n",
       "<style scoped>\n",
       "    .dataframe tbody tr th:only-of-type {\n",
       "        vertical-align: middle;\n",
       "    }\n",
       "\n",
       "    .dataframe tbody tr th {\n",
       "        vertical-align: top;\n",
       "    }\n",
       "\n",
       "    .dataframe thead th {\n",
       "        text-align: right;\n",
       "    }\n",
       "</style>\n",
       "<table border=\"1\" class=\"dataframe\">\n",
       "  <thead>\n",
       "    <tr style=\"text-align: right;\">\n",
       "      <th></th>\n",
       "      <th>Rank</th>\n",
       "      <th>Grade</th>\n",
       "      <th>Channel name</th>\n",
       "      <th>Video Uploads</th>\n",
       "      <th>Subscribers</th>\n",
       "      <th>Video views</th>\n",
       "    </tr>\n",
       "  </thead>\n",
       "  <tbody>\n",
       "    <tr>\n",
       "      <th>2</th>\n",
       "      <td>3rd</td>\n",
       "      <td>A++</td>\n",
       "      <td>Cocomelon - Nursery Rhymes</td>\n",
       "      <td>373.0</td>\n",
       "      <td>19238251.0</td>\n",
       "      <td>9793305082</td>\n",
       "    </tr>\n",
       "    <tr>\n",
       "      <th>8</th>\n",
       "      <td>9th</td>\n",
       "      <td>A++</td>\n",
       "      <td>Ryan ToysReview</td>\n",
       "      <td>1140.0</td>\n",
       "      <td>16082927.0</td>\n",
       "      <td>24518098041</td>\n",
       "    </tr>\n",
       "    <tr>\n",
       "      <th>10</th>\n",
       "      <td>11th</td>\n",
       "      <td>A+</td>\n",
       "      <td>5-Minute Crafts</td>\n",
       "      <td>2085.0</td>\n",
       "      <td>33492951.0</td>\n",
       "      <td>8587520379</td>\n",
       "    </tr>\n",
       "    <tr>\n",
       "      <th>11</th>\n",
       "      <td>12th</td>\n",
       "      <td>A+</td>\n",
       "      <td>Canal KondZilla</td>\n",
       "      <td>822.0</td>\n",
       "      <td>39409726.0</td>\n",
       "      <td>19291034467</td>\n",
       "    </tr>\n",
       "    <tr>\n",
       "      <th>12</th>\n",
       "      <td>13th</td>\n",
       "      <td>A+</td>\n",
       "      <td>Like Nastya Vlog</td>\n",
       "      <td>150.0</td>\n",
       "      <td>7662886.0</td>\n",
       "      <td>2540099931</td>\n",
       "    </tr>\n",
       "  </tbody>\n",
       "</table>\n",
       "</div>"
      ],
      "text/plain": [
       "    Rank Grade                Channel name  Video Uploads  Subscribers  \\\n",
       "2    3rd  A++   Cocomelon - Nursery Rhymes          373.0   19238251.0   \n",
       "8    9th  A++              Ryan ToysReview         1140.0   16082927.0   \n",
       "10  11th   A+              5-Minute Crafts         2085.0   33492951.0   \n",
       "11  12th   A+              Canal KondZilla          822.0   39409726.0   \n",
       "12  13th   A+             Like Nastya Vlog          150.0    7662886.0   \n",
       "\n",
       "    Video views  \n",
       "2    9793305082  \n",
       "8   24518098041  \n",
       "10   8587520379  \n",
       "11  19291034467  \n",
       "12   2540099931  "
      ]
     },
     "execution_count": 14,
     "metadata": {},
     "output_type": "execute_result"
    }
   ],
   "source": [
    "youtube[youtube['Video Uploads']<5000].head()"
   ]
  },
  {
   "cell_type": "markdown",
   "metadata": {},
   "source": [
    "# Q-3 Is there a relation ship between the number of video uploads and the number of subscribers? Generate a plot to support your answer."
   ]
  },
  {
   "cell_type": "code",
   "execution_count": 15,
   "metadata": {},
   "outputs": [
    {
     "data": {
      "text/plain": [
       "<matplotlib.collections.PathCollection at 0x13e41b534e0>"
      ]
     },
     "execution_count": 15,
     "metadata": {},
     "output_type": "execute_result"
    },
    {
     "data": {
      "image/png": "[encoded data removed]",
      "text/plain": [
       "<Figure size 432x288 with 1 Axes>"
      ]
     },
     "metadata": {
      "needs_background": "light"
     },
     "output_type": "display_data"
    }
   ],
   "source": [
    "plt.scatter(youtube.Subscribers,youtube['Video Uploads'])"
   ]
  },
  {
   "cell_type": "markdown",
   "metadata": {},
   "source": [
    "### Their is a weak correlation ie 0.011 between the number of video uploads and the number of subscribers"
   ]
  },
  {
   "cell_type": "code",
   "execution_count": 16,
   "metadata": {},
   "outputs": [
    {
     "data": {
      "text/plain": [
       "<matplotlib.axes._subplots.AxesSubplot at 0x13e42bdb0b8>"
      ]
     },
     "execution_count": 16,
     "metadata": {},
     "output_type": "execute_result"
    },
    {
     "data": {
      "image/png": "[encoded data removed]",
      "text/plain": [
       "<Figure size 432x288 with 2 Axes>"
      ]
     },
     "metadata": {
      "needs_background": "light"
     },
     "output_type": "display_data"
    }
   ],
   "source": [
    "sns.heatmap(youtube.corr(), annot=True)"
   ]
  },
  {
   "cell_type": "markdown",
   "metadata": {},
   "source": [
    "# Q-4 Plot the distribution of video views for the top 500 channels."
   ]
  },
  {
   "cell_type": "code",
   "execution_count": 17,
   "metadata": {},
   "outputs": [],
   "source": [
    "dist=youtube.sort_values(by='Video views',ascending=False)"
   ]
  },
  {
   "cell_type": "code",
   "execution_count": 18,
   "metadata": {},
   "outputs": [
    {
     "data": {
      "text/plain": [
       "1       47548839843\n",
       "4       26273668433\n",
       "8       24518098041\n",
       "6       23898730764\n",
       "3       22675948293\n",
       "0       20869786591\n",
       "11      19291034467\n",
       "1470    18684630003\n",
       "435     17806717170\n",
       "271     17470709876\n",
       "81      17362242300\n",
       "7       17202609850\n",
       "5       16618094724\n",
       "74      16519985673\n",
       "27      16395683234\n",
       "210     16244535352\n",
       "304     15476966737\n",
       "78      15212759916\n",
       "121     14533614800\n",
       "63      14521211040\n",
       "1643    14185582037\n",
       "19      14022189654\n",
       "227     13969280371\n",
       "212     13558498013\n",
       "99      13503732638\n",
       "269     13426887749\n",
       "126     13403860667\n",
       "630     13103339807\n",
       "38      11920370065\n",
       "242     11881872033\n",
       "           ...     \n",
       "12       2540099931\n",
       "327      2537293803\n",
       "1151     2535153504\n",
       "4558     2534504345\n",
       "2620     2533614944\n",
       "2325     2531207220\n",
       "1631     2524795914\n",
       "2549     2524775184\n",
       "923      2516674023\n",
       "1523     2516114490\n",
       "1983     2512967904\n",
       "1023     2509756896\n",
       "3070     2507680614\n",
       "1960     2505457709\n",
       "60       2499031601\n",
       "1997     2494658095\n",
       "356      2493477931\n",
       "55       2492724832\n",
       "1017     2491697636\n",
       "4238     2489858520\n",
       "393      2489747155\n",
       "206      2489237217\n",
       "3176     2488238303\n",
       "2378     2487310777\n",
       "2421     2487308976\n",
       "3341     2485984749\n",
       "1264     2477475081\n",
       "103      2474453105\n",
       "1052     2469377904\n",
       "1085     2468846059\n",
       "Name: Video views, Length: 500, dtype: int64"
      ]
     },
     "execution_count": 18,
     "metadata": {},
     "output_type": "execute_result"
    }
   ],
   "source": [
    "dist['Video views'].head(500)"
   ]
  },
  {
   "cell_type": "code",
   "execution_count": 19,
   "metadata": {},
   "outputs": [
    {
     "name": "stderr",
     "output_type": "stream",
     "text": [
      "C:\\Users\\Acer\\Anaconda3\\lib\\site-packages\\scipy\\stats\\stats.py:1713: FutureWarning: Using a non-tuple sequence for multidimensional indexing is deprecated; use `arr[tuple(seq)]` instead of `arr[seq]`. In the future this will be interpreted as an array index, `arr[np.array(seq)]`, which will result either in an error or a different result.\n",
      "  return np.add.reduce(sorted[indexer] * weights, axis=axis) / sumval\n"
     ]
    },
    {
     "data": {
      "text/plain": [
       "<matplotlib.axes._subplots.AxesSubplot at 0x13e42c6eef0>"
      ]
     },
     "execution_count": 19,
     "metadata": {},
     "output_type": "execute_result"
    },
    {
     "data": {
      "image/png": "[encoded data removed]",
      "text/plain": [
       "<Figure size 720x432 with 1 Axes>"
      ]
     },
     "metadata": {
      "needs_background": "light"
     },
     "output_type": "display_data"
    }
   ],
   "source": [
    "plt.figure(figsize=(10,6))\n",
    "sns.distplot(dist['Video views'].head(500))"
   ]
  },
  {
   "cell_type": "markdown",
   "metadata": {},
   "source": [
    "# Q-5 Plot a gradewise distribution of all the youtube channels. Which grade has the highest number of channels?"
   ]
  },
  {
   "cell_type": "code",
   "execution_count": 20,
   "metadata": {},
   "outputs": [
    {
     "data": {
      "text/plain": [
       "B+      2956\n",
       "A-      1024\n",
       "A        963\n",
       "A+        41\n",
       "A++       10\n",
       "           6\n",
       "Name: Grade, dtype: int64"
      ]
     },
     "execution_count": 20,
     "metadata": {},
     "output_type": "execute_result"
    }
   ],
   "source": [
    "youtube.Grade.value_counts()"
   ]
  },
  {
   "cell_type": "code",
   "execution_count": 21,
   "metadata": {},
   "outputs": [
    {
     "data": {
      "text/plain": [
       "<matplotlib.axes._subplots.AxesSubplot at 0x13e42c4a7f0>"
      ]
     },
     "execution_count": 21,
     "metadata": {},
     "output_type": "execute_result"
    },
    {
     "data": {
      "image/png": "[encoded data removed]",
      "text/plain": [
       "<Figure size 720x432 with 1 Axes>"
      ]
     },
     "metadata": {
      "needs_background": "light"
     },
     "output_type": "display_data"
    }
   ],
   "source": [
    "plt.figure(figsize=(10,6))\n",
    "sns.countplot(youtube.Grade)"
   ]
  },
  {
   "cell_type": "markdown",
   "metadata": {},
   "source": [
    "# Q-6 Create correlation matrix for the datasets and  plot the pairwise correlations."
   ]
  },
  {
   "cell_type": "code",
   "execution_count": 22,
   "metadata": {},
   "outputs": [
    {
     "name": "stderr",
     "output_type": "stream",
     "text": [
      "C:\\Users\\Acer\\Anaconda3\\lib\\site-packages\\numpy\\lib\\histograms.py:754: RuntimeWarning: invalid value encountered in greater_equal\n",
      "  keep = (tmp_a >= first_edge)\n",
      "C:\\Users\\Acer\\Anaconda3\\lib\\site-packages\\numpy\\lib\\histograms.py:755: RuntimeWarning: invalid value encountered in less_equal\n",
      "  keep &= (tmp_a <= last_edge)\n"
     ]
    },
    {
     "data": {
      "text/plain": [
       "<seaborn.axisgrid.PairGrid at 0x13e42dfb978>"
      ]
     },
     "execution_count": 22,
     "metadata": {},
     "output_type": "execute_result"
    },
    {
     "data": {
      "image/png": "[encoded data removed]",
      "text/plain": [
       "<Figure size 540x540 with 12 Axes>"
      ]
     },
     "metadata": {
      "needs_background": "light"
     },
     "output_type": "display_data"
    }
   ],
   "source": [
    "sns.pairplot(youtube)"
   ]
  },
  {
   "cell_type": "code",
   "execution_count": 23,
   "metadata": {},
   "outputs": [
    {
     "data": {
      "text/html": [
       "<div>\n",
       "<style scoped>\n",
       "    .dataframe tbody tr th:only-of-type {\n",
       "        vertical-align: middle;\n",
       "    }\n",
       "\n",
       "    .dataframe tbody tr th {\n",
       "        vertical-align: top;\n",
       "    }\n",
       "\n",
       "    .dataframe thead th {\n",
       "        text-align: right;\n",
       "    }\n",
       "</style>\n",
       "<table border=\"1\" class=\"dataframe\">\n",
       "  <thead>\n",
       "    <tr style=\"text-align: right;\">\n",
       "      <th></th>\n",
       "      <th>Video Uploads</th>\n",
       "      <th>Subscribers</th>\n",
       "      <th>Video views</th>\n",
       "    </tr>\n",
       "  </thead>\n",
       "  <tbody>\n",
       "    <tr>\n",
       "      <th>Video Uploads</th>\n",
       "      <td>1.000000</td>\n",
       "      <td>0.011362</td>\n",
       "      <td>0.092436</td>\n",
       "    </tr>\n",
       "    <tr>\n",
       "      <th>Subscribers</th>\n",
       "      <td>0.011362</td>\n",
       "      <td>1.000000</td>\n",
       "      <td>0.791281</td>\n",
       "    </tr>\n",
       "    <tr>\n",
       "      <th>Video views</th>\n",
       "      <td>0.092436</td>\n",
       "      <td>0.791281</td>\n",
       "      <td>1.000000</td>\n",
       "    </tr>\n",
       "  </tbody>\n",
       "</table>\n",
       "</div>"
      ],
      "text/plain": [
       "               Video Uploads  Subscribers  Video views\n",
       "Video Uploads       1.000000     0.011362     0.092436\n",
       "Subscribers         0.011362     1.000000     0.791281\n",
       "Video views         0.092436     0.791281     1.000000"
      ]
     },
     "execution_count": 23,
     "metadata": {},
     "output_type": "execute_result"
    }
   ],
   "source": [
    "youtube.corr()"
   ]
  },
  {
   "cell_type": "code",
   "execution_count": 24,
   "metadata": {},
   "outputs": [
    {
     "data": {
      "text/plain": [
       "<matplotlib.axes._subplots.AxesSubplot at 0x13e4333df28>"
      ]
     },
     "execution_count": 24,
     "metadata": {},
     "output_type": "execute_result"
    },
    {
     "data": {
      "image/png": "[encoded data removed]",
      "text/plain": [
       "<Figure size 432x288 with 2 Axes>"
      ]
     },
     "metadata": {
      "needs_background": "light"
     },
     "output_type": "display_data"
    }
   ],
   "source": [
    "sns.heatmap(youtube.corr(), annot=True)"
   ]
  },
  {
   "cell_type": "markdown",
   "metadata": {},
   "source": [
    "# Q-7 Create a new column in the dataset which contains the average number of subcribers per video upload. What are the top 5 channels based on this calculated average?"
   ]
  },
  {
   "cell_type": "code",
   "execution_count": 25,
   "metadata": {},
   "outputs": [
    {
     "data": {
      "text/html": [
       "<div>\n",
       "<style scoped>\n",
       "    .dataframe tbody tr th:only-of-type {\n",
       "        vertical-align: middle;\n",
       "    }\n",
       "\n",
       "    .dataframe tbody tr th {\n",
       "        vertical-align: top;\n",
       "    }\n",
       "\n",
       "    .dataframe thead th {\n",
       "        text-align: right;\n",
       "    }\n",
       "</style>\n",
       "<table border=\"1\" class=\"dataframe\">\n",
       "  <thead>\n",
       "    <tr style=\"text-align: right;\">\n",
       "      <th></th>\n",
       "      <th>Rank</th>\n",
       "      <th>Grade</th>\n",
       "      <th>Channel name</th>\n",
       "      <th>Video Uploads</th>\n",
       "      <th>Subscribers</th>\n",
       "      <th>Video views</th>\n",
       "    </tr>\n",
       "  </thead>\n",
       "  <tbody>\n",
       "    <tr>\n",
       "      <th>0</th>\n",
       "      <td>1st</td>\n",
       "      <td>A++</td>\n",
       "      <td>Zee TV</td>\n",
       "      <td>82757.0</td>\n",
       "      <td>18752951.0</td>\n",
       "      <td>20869786591</td>\n",
       "    </tr>\n",
       "    <tr>\n",
       "      <th>1</th>\n",
       "      <td>2nd</td>\n",
       "      <td>A++</td>\n",
       "      <td>T-Series</td>\n",
       "      <td>12661.0</td>\n",
       "      <td>61196302.0</td>\n",
       "      <td>47548839843</td>\n",
       "    </tr>\n",
       "    <tr>\n",
       "      <th>2</th>\n",
       "      <td>3rd</td>\n",
       "      <td>A++</td>\n",
       "      <td>Cocomelon - Nursery Rhymes</td>\n",
       "      <td>373.0</td>\n",
       "      <td>19238251.0</td>\n",
       "      <td>9793305082</td>\n",
       "    </tr>\n",
       "    <tr>\n",
       "      <th>3</th>\n",
       "      <td>4th</td>\n",
       "      <td>A++</td>\n",
       "      <td>SET India</td>\n",
       "      <td>27323.0</td>\n",
       "      <td>31180559.0</td>\n",
       "      <td>22675948293</td>\n",
       "    </tr>\n",
       "    <tr>\n",
       "      <th>4</th>\n",
       "      <td>5th</td>\n",
       "      <td>A++</td>\n",
       "      <td>WWE</td>\n",
       "      <td>36756.0</td>\n",
       "      <td>32852346.0</td>\n",
       "      <td>26273668433</td>\n",
       "    </tr>\n",
       "  </tbody>\n",
       "</table>\n",
       "</div>"
      ],
      "text/plain": [
       "  Rank Grade                Channel name  Video Uploads  Subscribers  \\\n",
       "0  1st  A++                       Zee TV        82757.0   18752951.0   \n",
       "1  2nd  A++                     T-Series        12661.0   61196302.0   \n",
       "2  3rd  A++   Cocomelon - Nursery Rhymes          373.0   19238251.0   \n",
       "3  4th  A++                    SET India        27323.0   31180559.0   \n",
       "4  5th  A++                          WWE        36756.0   32852346.0   \n",
       "\n",
       "   Video views  \n",
       "0  20869786591  \n",
       "1  47548839843  \n",
       "2   9793305082  \n",
       "3  22675948293  \n",
       "4  26273668433  "
      ]
     },
     "execution_count": 25,
     "metadata": {},
     "output_type": "execute_result"
    }
   ],
   "source": [
    "youtube.head()"
   ]
  },
  {
   "cell_type": "code",
   "execution_count": 26,
   "metadata": {},
   "outputs": [],
   "source": [
    "youtube['Average_Subs']=youtube.Subscribers/youtube['Video Uploads']"
   ]
  },
  {
   "cell_type": "code",
   "execution_count": 27,
   "metadata": {},
   "outputs": [
    {
     "data": {
      "text/html": [
       "<div>\n",
       "<style scoped>\n",
       "    .dataframe tbody tr th:only-of-type {\n",
       "        vertical-align: middle;\n",
       "    }\n",
       "\n",
       "    .dataframe tbody tr th {\n",
       "        vertical-align: top;\n",
       "    }\n",
       "\n",
       "    .dataframe thead th {\n",
       "        text-align: right;\n",
       "    }\n",
       "</style>\n",
       "<table border=\"1\" class=\"dataframe\">\n",
       "  <thead>\n",
       "    <tr style=\"text-align: right;\">\n",
       "      <th></th>\n",
       "      <th>Rank</th>\n",
       "      <th>Grade</th>\n",
       "      <th>Channel name</th>\n",
       "      <th>Video Uploads</th>\n",
       "      <th>Subscribers</th>\n",
       "      <th>Video views</th>\n",
       "      <th>Average_Subs</th>\n",
       "    </tr>\n",
       "  </thead>\n",
       "  <tbody>\n",
       "    <tr>\n",
       "      <th>0</th>\n",
       "      <td>1st</td>\n",
       "      <td>A++</td>\n",
       "      <td>Zee TV</td>\n",
       "      <td>82757.0</td>\n",
       "      <td>18752951.0</td>\n",
       "      <td>20869786591</td>\n",
       "      <td>226.602596</td>\n",
       "    </tr>\n",
       "    <tr>\n",
       "      <th>1</th>\n",
       "      <td>2nd</td>\n",
       "      <td>A++</td>\n",
       "      <td>T-Series</td>\n",
       "      <td>12661.0</td>\n",
       "      <td>61196302.0</td>\n",
       "      <td>47548839843</td>\n",
       "      <td>4833.449333</td>\n",
       "    </tr>\n",
       "    <tr>\n",
       "      <th>2</th>\n",
       "      <td>3rd</td>\n",
       "      <td>A++</td>\n",
       "      <td>Cocomelon - Nursery Rhymes</td>\n",
       "      <td>373.0</td>\n",
       "      <td>19238251.0</td>\n",
       "      <td>9793305082</td>\n",
       "      <td>51577.080429</td>\n",
       "    </tr>\n",
       "    <tr>\n",
       "      <th>3</th>\n",
       "      <td>4th</td>\n",
       "      <td>A++</td>\n",
       "      <td>SET India</td>\n",
       "      <td>27323.0</td>\n",
       "      <td>31180559.0</td>\n",
       "      <td>22675948293</td>\n",
       "      <td>1141.183582</td>\n",
       "    </tr>\n",
       "    <tr>\n",
       "      <th>4</th>\n",
       "      <td>5th</td>\n",
       "      <td>A++</td>\n",
       "      <td>WWE</td>\n",
       "      <td>36756.0</td>\n",
       "      <td>32852346.0</td>\n",
       "      <td>26273668433</td>\n",
       "      <td>893.795462</td>\n",
       "    </tr>\n",
       "  </tbody>\n",
       "</table>\n",
       "</div>"
      ],
      "text/plain": [
       "  Rank Grade                Channel name  Video Uploads  Subscribers  \\\n",
       "0  1st  A++                       Zee TV        82757.0   18752951.0   \n",
       "1  2nd  A++                     T-Series        12661.0   61196302.0   \n",
       "2  3rd  A++   Cocomelon - Nursery Rhymes          373.0   19238251.0   \n",
       "3  4th  A++                    SET India        27323.0   31180559.0   \n",
       "4  5th  A++                          WWE        36756.0   32852346.0   \n",
       "\n",
       "   Video views  Average_Subs  \n",
       "0  20869786591    226.602596  \n",
       "1  47548839843   4833.449333  \n",
       "2   9793305082  51577.080429  \n",
       "3  22675948293   1141.183582  \n",
       "4  26273668433    893.795462  "
      ]
     },
     "execution_count": 27,
     "metadata": {},
     "output_type": "execute_result"
    }
   ],
   "source": [
    "youtube.head()"
   ]
  },
  {
   "cell_type": "markdown",
   "metadata": {},
   "source": [
    "###  the top 5 channels based on this calculated average?"
   ]
  },
  {
   "cell_type": "code",
   "execution_count": 28,
   "metadata": {},
   "outputs": [
    {
     "data": {
      "text/html": [
       "<div>\n",
       "<style scoped>\n",
       "    .dataframe tbody tr th:only-of-type {\n",
       "        vertical-align: middle;\n",
       "    }\n",
       "\n",
       "    .dataframe tbody tr th {\n",
       "        vertical-align: top;\n",
       "    }\n",
       "\n",
       "    .dataframe thead th {\n",
       "        text-align: right;\n",
       "    }\n",
       "</style>\n",
       "<table border=\"1\" class=\"dataframe\">\n",
       "  <thead>\n",
       "    <tr style=\"text-align: right;\">\n",
       "      <th></th>\n",
       "      <th>Rank</th>\n",
       "      <th>Grade</th>\n",
       "      <th>Channel name</th>\n",
       "      <th>Video Uploads</th>\n",
       "      <th>Subscribers</th>\n",
       "      <th>Video views</th>\n",
       "      <th>Average_Subs</th>\n",
       "    </tr>\n",
       "  </thead>\n",
       "  <tbody>\n",
       "    <tr>\n",
       "      <th>4916</th>\n",
       "      <td>4,917th</td>\n",
       "      <td>B+</td>\n",
       "      <td>fouseyTUBE</td>\n",
       "      <td>2.0</td>\n",
       "      <td>10523367.0</td>\n",
       "      <td>593861</td>\n",
       "      <td>5.261684e+06</td>\n",
       "    </tr>\n",
       "    <tr>\n",
       "      <th>628</th>\n",
       "      <td>629th</td>\n",
       "      <td>A</td>\n",
       "      <td>cocoz toon</td>\n",
       "      <td>1.0</td>\n",
       "      <td>2162992.0</td>\n",
       "      <td>333012122</td>\n",
       "      <td>2.162992e+06</td>\n",
       "    </tr>\n",
       "    <tr>\n",
       "      <th>389</th>\n",
       "      <td>390th</td>\n",
       "      <td>A</td>\n",
       "      <td>Bad Bunny</td>\n",
       "      <td>11.0</td>\n",
       "      <td>12685253.0</td>\n",
       "      <td>2612504875</td>\n",
       "      <td>1.153205e+06</td>\n",
       "    </tr>\n",
       "    <tr>\n",
       "      <th>94</th>\n",
       "      <td>95th</td>\n",
       "      <td>A</td>\n",
       "      <td>Tekashi 6ix9ine</td>\n",
       "      <td>3.0</td>\n",
       "      <td>3108447.0</td>\n",
       "      <td>353018727</td>\n",
       "      <td>1.036149e+06</td>\n",
       "    </tr>\n",
       "    <tr>\n",
       "      <th>3263</th>\n",
       "      <td>3,264th</td>\n",
       "      <td>B+</td>\n",
       "      <td>AlfredoOlivasVEVO</td>\n",
       "      <td>2.0</td>\n",
       "      <td>1189424.0</td>\n",
       "      <td>42873889</td>\n",
       "      <td>5.947120e+05</td>\n",
       "    </tr>\n",
       "  </tbody>\n",
       "</table>\n",
       "</div>"
      ],
      "text/plain": [
       "         Rank Grade       Channel name  Video Uploads  Subscribers  \\\n",
       "4916  4,917th   B+          fouseyTUBE            2.0   10523367.0   \n",
       "628     629th    A          cocoz toon            1.0    2162992.0   \n",
       "389     390th    A           Bad Bunny           11.0   12685253.0   \n",
       "94       95th    A     Tekashi 6ix9ine            3.0    3108447.0   \n",
       "3263  3,264th   B+   AlfredoOlivasVEVO            2.0    1189424.0   \n",
       "\n",
       "      Video views  Average_Subs  \n",
       "4916       593861  5.261684e+06  \n",
       "628     333012122  2.162992e+06  \n",
       "389    2612504875  1.153205e+06  \n",
       "94      353018727  1.036149e+06  \n",
       "3263     42873889  5.947120e+05  "
      ]
     },
     "execution_count": 28,
     "metadata": {},
     "output_type": "execute_result"
    }
   ],
   "source": [
    "youtube.sort_values(by='Average_Subs',ascending=False).head(5)"
   ]
  },
  {
   "cell_type": "markdown",
   "metadata": {},
   "source": [
    "# Q-8 For A++ grade channels, plot the distributions for the following columns:\n",
    "# a. Video Uploads\n",
    "# b. Subscribers\n",
    "# c. Video views\n"
   ]
  },
  {
   "cell_type": "code",
   "execution_count": 29,
   "metadata": {},
   "outputs": [],
   "source": [
    "a=youtube[youtube.Grade=='A++ ']"
   ]
  },
  {
   "cell_type": "code",
   "execution_count": 30,
   "metadata": {},
   "outputs": [
    {
     "data": {
      "text/html": [
       "<div>\n",
       "<style scoped>\n",
       "    .dataframe tbody tr th:only-of-type {\n",
       "        vertical-align: middle;\n",
       "    }\n",
       "\n",
       "    .dataframe tbody tr th {\n",
       "        vertical-align: top;\n",
       "    }\n",
       "\n",
       "    .dataframe thead th {\n",
       "        text-align: right;\n",
       "    }\n",
       "</style>\n",
       "<table border=\"1\" class=\"dataframe\">\n",
       "  <thead>\n",
       "    <tr style=\"text-align: right;\">\n",
       "      <th></th>\n",
       "      <th>Rank</th>\n",
       "      <th>Grade</th>\n",
       "      <th>Channel name</th>\n",
       "      <th>Video Uploads</th>\n",
       "      <th>Subscribers</th>\n",
       "      <th>Video views</th>\n",
       "      <th>Average_Subs</th>\n",
       "    </tr>\n",
       "  </thead>\n",
       "  <tbody>\n",
       "    <tr>\n",
       "      <th>0</th>\n",
       "      <td>1st</td>\n",
       "      <td>A++</td>\n",
       "      <td>Zee TV</td>\n",
       "      <td>82757.0</td>\n",
       "      <td>18752951.0</td>\n",
       "      <td>20869786591</td>\n",
       "      <td>226.602596</td>\n",
       "    </tr>\n",
       "    <tr>\n",
       "      <th>1</th>\n",
       "      <td>2nd</td>\n",
       "      <td>A++</td>\n",
       "      <td>T-Series</td>\n",
       "      <td>12661.0</td>\n",
       "      <td>61196302.0</td>\n",
       "      <td>47548839843</td>\n",
       "      <td>4833.449333</td>\n",
       "    </tr>\n",
       "    <tr>\n",
       "      <th>2</th>\n",
       "      <td>3rd</td>\n",
       "      <td>A++</td>\n",
       "      <td>Cocomelon - Nursery Rhymes</td>\n",
       "      <td>373.0</td>\n",
       "      <td>19238251.0</td>\n",
       "      <td>9793305082</td>\n",
       "      <td>51577.080429</td>\n",
       "    </tr>\n",
       "    <tr>\n",
       "      <th>3</th>\n",
       "      <td>4th</td>\n",
       "      <td>A++</td>\n",
       "      <td>SET India</td>\n",
       "      <td>27323.0</td>\n",
       "      <td>31180559.0</td>\n",
       "      <td>22675948293</td>\n",
       "      <td>1141.183582</td>\n",
       "    </tr>\n",
       "    <tr>\n",
       "      <th>4</th>\n",
       "      <td>5th</td>\n",
       "      <td>A++</td>\n",
       "      <td>WWE</td>\n",
       "      <td>36756.0</td>\n",
       "      <td>32852346.0</td>\n",
       "      <td>26273668433</td>\n",
       "      <td>893.795462</td>\n",
       "    </tr>\n",
       "    <tr>\n",
       "      <th>5</th>\n",
       "      <td>6th</td>\n",
       "      <td>A++</td>\n",
       "      <td>Movieclips</td>\n",
       "      <td>30243.0</td>\n",
       "      <td>17149705.0</td>\n",
       "      <td>16618094724</td>\n",
       "      <td>567.063618</td>\n",
       "    </tr>\n",
       "    <tr>\n",
       "      <th>6</th>\n",
       "      <td>7th</td>\n",
       "      <td>A++</td>\n",
       "      <td>netd müzik</td>\n",
       "      <td>8500.0</td>\n",
       "      <td>11373567.0</td>\n",
       "      <td>23898730764</td>\n",
       "      <td>1338.066706</td>\n",
       "    </tr>\n",
       "    <tr>\n",
       "      <th>7</th>\n",
       "      <td>8th</td>\n",
       "      <td>A++</td>\n",
       "      <td>ABS-CBN Entertainment</td>\n",
       "      <td>100147.0</td>\n",
       "      <td>12149206.0</td>\n",
       "      <td>17202609850</td>\n",
       "      <td>121.313729</td>\n",
       "    </tr>\n",
       "    <tr>\n",
       "      <th>8</th>\n",
       "      <td>9th</td>\n",
       "      <td>A++</td>\n",
       "      <td>Ryan ToysReview</td>\n",
       "      <td>1140.0</td>\n",
       "      <td>16082927.0</td>\n",
       "      <td>24518098041</td>\n",
       "      <td>14107.830702</td>\n",
       "    </tr>\n",
       "    <tr>\n",
       "      <th>9</th>\n",
       "      <td>10th</td>\n",
       "      <td>A++</td>\n",
       "      <td>Zee Marathi</td>\n",
       "      <td>74607.0</td>\n",
       "      <td>2841811.0</td>\n",
       "      <td>2591830307</td>\n",
       "      <td>38.090407</td>\n",
       "    </tr>\n",
       "  </tbody>\n",
       "</table>\n",
       "</div>"
      ],
      "text/plain": [
       "   Rank Grade                Channel name  Video Uploads  Subscribers  \\\n",
       "0   1st  A++                       Zee TV        82757.0   18752951.0   \n",
       "1   2nd  A++                     T-Series        12661.0   61196302.0   \n",
       "2   3rd  A++   Cocomelon - Nursery Rhymes          373.0   19238251.0   \n",
       "3   4th  A++                    SET India        27323.0   31180559.0   \n",
       "4   5th  A++                          WWE        36756.0   32852346.0   \n",
       "5   6th  A++                   Movieclips        30243.0   17149705.0   \n",
       "6   7th  A++                   netd müzik         8500.0   11373567.0   \n",
       "7   8th  A++        ABS-CBN Entertainment       100147.0   12149206.0   \n",
       "8   9th  A++              Ryan ToysReview         1140.0   16082927.0   \n",
       "9  10th  A++                  Zee Marathi        74607.0    2841811.0   \n",
       "\n",
       "   Video views  Average_Subs  \n",
       "0  20869786591    226.602596  \n",
       "1  47548839843   4833.449333  \n",
       "2   9793305082  51577.080429  \n",
       "3  22675948293   1141.183582  \n",
       "4  26273668433    893.795462  \n",
       "5  16618094724    567.063618  \n",
       "6  23898730764   1338.066706  \n",
       "7  17202609850    121.313729  \n",
       "8  24518098041  14107.830702  \n",
       "9   2591830307     38.090407  "
      ]
     },
     "execution_count": 30,
     "metadata": {},
     "output_type": "execute_result"
    }
   ],
   "source": [
    "a"
   ]
  },
  {
   "cell_type": "code",
   "execution_count": 31,
   "metadata": {},
   "outputs": [
    {
     "data": {
      "text/plain": [
       "<matplotlib.axes._subplots.AxesSubplot at 0x13e43509198>"
      ]
     },
     "execution_count": 31,
     "metadata": {},
     "output_type": "execute_result"
    },
    {
     "data": {
      "image/png": "[encoded data removed]",
      "text/plain": [
       "<Figure size 432x288 with 1 Axes>"
      ]
     },
     "metadata": {
      "needs_background": "light"
     },
     "output_type": "display_data"
    }
   ],
   "source": [
    "#Ans a\n",
    "sns.distplot(a['Video Uploads'])"
   ]
  },
  {
   "cell_type": "code",
   "execution_count": 32,
   "metadata": {},
   "outputs": [
    {
     "data": {
      "text/plain": [
       "<matplotlib.axes._subplots.AxesSubplot at 0x13e43564278>"
      ]
     },
     "execution_count": 32,
     "metadata": {},
     "output_type": "execute_result"
    },
    {
     "data": {
      "image/png": "[encoded data removed]",
      "text/plain": [
       "<Figure size 432x288 with 1 Axes>"
      ]
     },
     "metadata": {
      "needs_background": "light"
     },
     "output_type": "display_data"
    }
   ],
   "source": [
    "#Ans b\n",
    "sns.distplot(a.Subscribers)"
   ]
  },
  {
   "cell_type": "code",
   "execution_count": 33,
   "metadata": {},
   "outputs": [
    {
     "data": {
      "text/plain": [
       "<matplotlib.axes._subplots.AxesSubplot at 0x13e435cfef0>"
      ]
     },
     "execution_count": 33,
     "metadata": {},
     "output_type": "execute_result"
    },
    {
     "data": {
      "image/png": "[encoded data removed]",
      "text/plain": [
       "<Figure size 432x288 with 1 Axes>"
      ]
     },
     "metadata": {
      "needs_background": "light"
     },
     "output_type": "display_data"
    }
   ],
   "source": [
    "#Ans c\n",
    "sns.distplot(a['Video views'])"
   ]
  },
  {
   "cell_type": "markdown",
   "metadata": {},
   "source": [
    "# Q-9 Are there any outliers in the data. Generate boxplots to support your answer."
   ]
  },
  {
   "cell_type": "code",
   "execution_count": 35,
   "metadata": {},
   "outputs": [
    {
     "data": {
      "text/plain": [
       "<matplotlib.axes._subplots.AxesSubplot at 0x13e4363fb00>"
      ]
     },
     "execution_count": 35,
     "metadata": {},
     "output_type": "execute_result"
    },
    {
     "data": {
      "image/png": "[encoded data removed]",
      "text/plain": [
       "<Figure size 720x432 with 1 Axes>"
      ]
     },
     "metadata": {
      "needs_background": "light"
     },
     "output_type": "display_data"
    }
   ],
   "source": [
    "plt.figure(figsize=(10,6))\n",
    "sns.boxplot(youtube.Subscribers)"
   ]
  },
  {
   "cell_type": "code",
   "execution_count": 36,
   "metadata": {},
   "outputs": [
    {
     "data": {
      "text/plain": [
       "<matplotlib.axes._subplots.AxesSubplot at 0x13e43685400>"
      ]
     },
     "execution_count": 36,
     "metadata": {},
     "output_type": "execute_result"
    },
    {
     "data": {
      "image/png": "[encoded data removed]",
      "text/plain": [
       "<Figure size 720x432 with 1 Axes>"
      ]
     },
     "metadata": {
      "needs_background": "light"
     },
     "output_type": "display_data"
    }
   ],
   "source": [
    "plt.figure(figsize=(10,6))\n",
    "sns.boxplot(youtube['Video views'])"
   ]
  },
  {
   "cell_type": "code",
   "execution_count": 37,
   "metadata": {},
   "outputs": [
    {
     "data": {
      "text/plain": [
       "<matplotlib.axes._subplots.AxesSubplot at 0x13e436ee390>"
      ]
     },
     "execution_count": 37,
     "metadata": {},
     "output_type": "execute_result"
    },
    {
     "data": {
      "image/png": "[encoded data removed]",
      "text/plain": [
       "<Figure size 720x432 with 1 Axes>"
      ]
     },
     "metadata": {
      "needs_background": "light"
     },
     "output_type": "display_data"
    }
   ],
   "source": [
    "plt.figure(figsize=(10,6))\n",
    "sns.boxplot(youtube['Video Uploads'])"
   ]
  },
  {
   "cell_type": "markdown",
   "metadata": {},
   "source": [
    "# Q-10 An company wants to advertise their products on youtube. They approach you for some advice. He has the following questions. Do your best to answer the following questions with supporting plots where required.\n",
    "### •\tThe advertiser wants to advertise in channels which regularly release fresh videos. He also  What are his top 5 choices? (3 marks)\n"
   ]
  },
  {
   "cell_type": "markdown",
   "metadata": {},
   "source": [
    "### As the adviser want to advertise in channels which regularly release fresh videos so we can find the higgest number of Videos Uploads, as that channel has more number of videos uploaded that means he post regular video on his channel "
   ]
  },
  {
   "cell_type": "code",
   "execution_count": 38,
   "metadata": {},
   "outputs": [
    {
     "data": {
      "text/plain": [
       "3453    AP Archive\n",
       "1149      YTN NEWS\n",
       "2223     SBS Drama\n",
       "323       GMA News\n",
       "2956           MLB\n",
       "Name: Channel name, dtype: object"
      ]
     },
     "execution_count": 38,
     "metadata": {},
     "output_type": "execute_result"
    }
   ],
   "source": [
    "youtube.sort_values(['Video Uploads'], ascending=False).head(5)['Channel name'] #These are the top 5 channel which are regular"
   ]
  },
  {
   "cell_type": "markdown",
   "metadata": {},
   "source": [
    "### •The advertiser has some constraints with regard to the cost of advertising. The cost depends on the number of average views per video. Suggest the best 10 channels with average views between 1000000 to 500000. (4 marks)"
   ]
  },
  {
   "cell_type": "code",
   "execution_count": 39,
   "metadata": {},
   "outputs": [],
   "source": [
    "# We have to make a new column for Average_View_Per_Video\n",
    "youtube['Average_View_Per_Video']=youtube['Video views']/youtube['Video Uploads']"
   ]
  },
  {
   "cell_type": "code",
   "execution_count": 40,
   "metadata": {},
   "outputs": [
    {
     "data": {
      "text/html": [
       "<div>\n",
       "<style scoped>\n",
       "    .dataframe tbody tr th:only-of-type {\n",
       "        vertical-align: middle;\n",
       "    }\n",
       "\n",
       "    .dataframe tbody tr th {\n",
       "        vertical-align: top;\n",
       "    }\n",
       "\n",
       "    .dataframe thead th {\n",
       "        text-align: right;\n",
       "    }\n",
       "</style>\n",
       "<table border=\"1\" class=\"dataframe\">\n",
       "  <thead>\n",
       "    <tr style=\"text-align: right;\">\n",
       "      <th></th>\n",
       "      <th>Rank</th>\n",
       "      <th>Grade</th>\n",
       "      <th>Channel name</th>\n",
       "      <th>Video Uploads</th>\n",
       "      <th>Subscribers</th>\n",
       "      <th>Video views</th>\n",
       "      <th>Average_Subs</th>\n",
       "      <th>Average_View_Per_Video</th>\n",
       "    </tr>\n",
       "  </thead>\n",
       "  <tbody>\n",
       "    <tr>\n",
       "      <th>0</th>\n",
       "      <td>1st</td>\n",
       "      <td>A++</td>\n",
       "      <td>Zee TV</td>\n",
       "      <td>82757.0</td>\n",
       "      <td>18752951.0</td>\n",
       "      <td>20869786591</td>\n",
       "      <td>226.602596</td>\n",
       "      <td>2.521815e+05</td>\n",
       "    </tr>\n",
       "    <tr>\n",
       "      <th>1</th>\n",
       "      <td>2nd</td>\n",
       "      <td>A++</td>\n",
       "      <td>T-Series</td>\n",
       "      <td>12661.0</td>\n",
       "      <td>61196302.0</td>\n",
       "      <td>47548839843</td>\n",
       "      <td>4833.449333</td>\n",
       "      <td>3.755536e+06</td>\n",
       "    </tr>\n",
       "    <tr>\n",
       "      <th>2</th>\n",
       "      <td>3rd</td>\n",
       "      <td>A++</td>\n",
       "      <td>Cocomelon - Nursery Rhymes</td>\n",
       "      <td>373.0</td>\n",
       "      <td>19238251.0</td>\n",
       "      <td>9793305082</td>\n",
       "      <td>51577.080429</td>\n",
       "      <td>2.625551e+07</td>\n",
       "    </tr>\n",
       "    <tr>\n",
       "      <th>3</th>\n",
       "      <td>4th</td>\n",
       "      <td>A++</td>\n",
       "      <td>SET India</td>\n",
       "      <td>27323.0</td>\n",
       "      <td>31180559.0</td>\n",
       "      <td>22675948293</td>\n",
       "      <td>1141.183582</td>\n",
       "      <td>8.299216e+05</td>\n",
       "    </tr>\n",
       "    <tr>\n",
       "      <th>4</th>\n",
       "      <td>5th</td>\n",
       "      <td>A++</td>\n",
       "      <td>WWE</td>\n",
       "      <td>36756.0</td>\n",
       "      <td>32852346.0</td>\n",
       "      <td>26273668433</td>\n",
       "      <td>893.795462</td>\n",
       "      <td>7.148130e+05</td>\n",
       "    </tr>\n",
       "  </tbody>\n",
       "</table>\n",
       "</div>"
      ],
      "text/plain": [
       "  Rank Grade                Channel name  Video Uploads  Subscribers  \\\n",
       "0  1st  A++                       Zee TV        82757.0   18752951.0   \n",
       "1  2nd  A++                     T-Series        12661.0   61196302.0   \n",
       "2  3rd  A++   Cocomelon - Nursery Rhymes          373.0   19238251.0   \n",
       "3  4th  A++                    SET India        27323.0   31180559.0   \n",
       "4  5th  A++                          WWE        36756.0   32852346.0   \n",
       "\n",
       "   Video views  Average_Subs  Average_View_Per_Video  \n",
       "0  20869786591    226.602596            2.521815e+05  \n",
       "1  47548839843   4833.449333            3.755536e+06  \n",
       "2   9793305082  51577.080429            2.625551e+07  \n",
       "3  22675948293   1141.183582            8.299216e+05  \n",
       "4  26273668433    893.795462            7.148130e+05  "
      ]
     },
     "execution_count": 40,
     "metadata": {},
     "output_type": "execute_result"
    }
   ],
   "source": [
    "youtube.head()"
   ]
  },
  {
   "cell_type": "code",
   "execution_count": 41,
   "metadata": {},
   "outputs": [
    {
     "data": {
      "text/html": [
       "<div>\n",
       "<style scoped>\n",
       "    .dataframe tbody tr th:only-of-type {\n",
       "        vertical-align: middle;\n",
       "    }\n",
       "\n",
       "    .dataframe tbody tr th {\n",
       "        vertical-align: top;\n",
       "    }\n",
       "\n",
       "    .dataframe thead th {\n",
       "        text-align: right;\n",
       "    }\n",
       "</style>\n",
       "<table border=\"1\" class=\"dataframe\">\n",
       "  <thead>\n",
       "    <tr style=\"text-align: right;\">\n",
       "      <th></th>\n",
       "      <th>Rank</th>\n",
       "      <th>Grade</th>\n",
       "      <th>Channel name</th>\n",
       "      <th>Video Uploads</th>\n",
       "      <th>Subscribers</th>\n",
       "      <th>Video views</th>\n",
       "      <th>Average_Subs</th>\n",
       "      <th>Average_View_Per_Video</th>\n",
       "    </tr>\n",
       "  </thead>\n",
       "  <tbody>\n",
       "    <tr>\n",
       "      <th>3</th>\n",
       "      <td>4th</td>\n",
       "      <td>A++</td>\n",
       "      <td>SET India</td>\n",
       "      <td>27323.0</td>\n",
       "      <td>31180559.0</td>\n",
       "      <td>22675948293</td>\n",
       "      <td>1141.183582</td>\n",
       "      <td>829921.615233</td>\n",
       "    </tr>\n",
       "    <tr>\n",
       "      <th>4</th>\n",
       "      <td>5th</td>\n",
       "      <td>A++</td>\n",
       "      <td>WWE</td>\n",
       "      <td>36756.0</td>\n",
       "      <td>32852346.0</td>\n",
       "      <td>26273668433</td>\n",
       "      <td>893.795462</td>\n",
       "      <td>714813.049108</td>\n",
       "    </tr>\n",
       "    <tr>\n",
       "      <th>5</th>\n",
       "      <td>6th</td>\n",
       "      <td>A++</td>\n",
       "      <td>Movieclips</td>\n",
       "      <td>30243.0</td>\n",
       "      <td>17149705.0</td>\n",
       "      <td>16618094724</td>\n",
       "      <td>567.063618</td>\n",
       "      <td>549485.656978</td>\n",
       "    </tr>\n",
       "    <tr>\n",
       "      <th>14</th>\n",
       "      <td>15th</td>\n",
       "      <td>A+</td>\n",
       "      <td>Wave Music</td>\n",
       "      <td>16119.0</td>\n",
       "      <td>15899764.0</td>\n",
       "      <td>10989179147</td>\n",
       "      <td>986.398908</td>\n",
       "      <td>681753.157578</td>\n",
       "    </tr>\n",
       "    <tr>\n",
       "      <th>19</th>\n",
       "      <td>20th</td>\n",
       "      <td>A+</td>\n",
       "      <td>WorkpointOfficial</td>\n",
       "      <td>24287.0</td>\n",
       "      <td>17687229.0</td>\n",
       "      <td>14022189654</td>\n",
       "      <td>728.259110</td>\n",
       "      <td>577353.714086</td>\n",
       "    </tr>\n",
       "    <tr>\n",
       "      <th>29</th>\n",
       "      <td>30th</td>\n",
       "      <td>A+</td>\n",
       "      <td>Kirin AMV's</td>\n",
       "      <td>230.0</td>\n",
       "      <td>459906.0</td>\n",
       "      <td>224608044</td>\n",
       "      <td>1999.591304</td>\n",
       "      <td>976556.713043</td>\n",
       "    </tr>\n",
       "    <tr>\n",
       "      <th>53</th>\n",
       "      <td>54th</td>\n",
       "      <td>A</td>\n",
       "      <td>Ultra Bollywood</td>\n",
       "      <td>10714.0</td>\n",
       "      <td>10490425.0</td>\n",
       "      <td>6239740374</td>\n",
       "      <td>979.132444</td>\n",
       "      <td>582391.298675</td>\n",
       "    </tr>\n",
       "    <tr>\n",
       "      <th>61</th>\n",
       "      <td>62nd</td>\n",
       "      <td>A</td>\n",
       "      <td>1theK (원더케이)</td>\n",
       "      <td>12942.0</td>\n",
       "      <td>12918410.0</td>\n",
       "      <td>10657097331</td>\n",
       "      <td>998.177252</td>\n",
       "      <td>823450.574177</td>\n",
       "    </tr>\n",
       "    <tr>\n",
       "      <th>67</th>\n",
       "      <td>68th</td>\n",
       "      <td>A</td>\n",
       "      <td>Shemaroo</td>\n",
       "      <td>6466.0</td>\n",
       "      <td>10846501.0</td>\n",
       "      <td>4795061785</td>\n",
       "      <td>1677.466904</td>\n",
       "      <td>741580.851376</td>\n",
       "    </tr>\n",
       "    <tr>\n",
       "      <th>77</th>\n",
       "      <td>78th</td>\n",
       "      <td>A</td>\n",
       "      <td>Eros Now</td>\n",
       "      <td>9852.0</td>\n",
       "      <td>13820875.0</td>\n",
       "      <td>8651382337</td>\n",
       "      <td>1402.849675</td>\n",
       "      <td>878134.626167</td>\n",
       "    </tr>\n",
       "  </tbody>\n",
       "</table>\n",
       "</div>"
      ],
      "text/plain": [
       "    Rank Grade       Channel name  Video Uploads  Subscribers  Video views  \\\n",
       "3    4th  A++           SET India        27323.0   31180559.0  22675948293   \n",
       "4    5th  A++                 WWE        36756.0   32852346.0  26273668433   \n",
       "5    6th  A++          Movieclips        30243.0   17149705.0  16618094724   \n",
       "14  15th   A+          Wave Music        16119.0   15899764.0  10989179147   \n",
       "19  20th   A+   WorkpointOfficial        24287.0   17687229.0  14022189654   \n",
       "29  30th   A+         Kirin AMV's          230.0     459906.0    224608044   \n",
       "53  54th    A     Ultra Bollywood        10714.0   10490425.0   6239740374   \n",
       "61  62nd    A        1theK (원더케이)        12942.0   12918410.0  10657097331   \n",
       "67  68th    A            Shemaroo         6466.0   10846501.0   4795061785   \n",
       "77  78th    A            Eros Now         9852.0   13820875.0   8651382337   \n",
       "\n",
       "    Average_Subs  Average_View_Per_Video  \n",
       "3    1141.183582           829921.615233  \n",
       "4     893.795462           714813.049108  \n",
       "5     567.063618           549485.656978  \n",
       "14    986.398908           681753.157578  \n",
       "19    728.259110           577353.714086  \n",
       "29   1999.591304           976556.713043  \n",
       "53    979.132444           582391.298675  \n",
       "61    998.177252           823450.574177  \n",
       "67   1677.466904           741580.851376  \n",
       "77   1402.849675           878134.626167  "
      ]
     },
     "execution_count": 41,
     "metadata": {},
     "output_type": "execute_result"
    }
   ],
   "source": [
    "youtube[(youtube['Average_View_Per_Video']<=1000000) & (youtube['Average_View_Per_Video']>=500000)].head(10)"
   ]
  }
 ],
 "metadata": {
  "kernelspec": {
   "display_name": "Python 3",
   "language": "python",
   "name": "python3"
  },
  "language_info": {
   "codemirror_mode": {
    "name": "ipython",
    "version": 3
   },
   "file_extension": ".py",
   "mimetype": "text/x-python",
   "name": "python",
   "nbconvert_exporter": "python",
   "pygments_lexer": "ipython3",
   "version": "3.7.1"
  }
 },
 "nbformat": 4,
 "nbformat_minor": 2
}
